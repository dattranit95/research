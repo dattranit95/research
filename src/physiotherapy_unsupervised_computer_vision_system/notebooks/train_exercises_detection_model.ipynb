{
 "cells": [
  {
   "cell_type": "markdown",
   "id": "bfa430d4",
   "metadata": {},
   "source": [
    "# Train exercises detection model"
   ]
  },
  {
   "cell_type": "markdown",
   "id": "d185c93d",
   "metadata": {},
   "source": [
    "Import required packages"
   ]
  },
  {
   "cell_type": "code",
   "execution_count": 19,
   "id": "c4bdfa68",
   "metadata": {},
   "outputs": [],
   "source": [
    "import os\n",
    "from sklearn.model_selection import train_test_split\n",
    "import pandas as pd"
   ]
  },
  {
   "cell_type": "markdown",
   "id": "c783ef98",
   "metadata": {},
   "source": [
    "Devide dataset"
   ]
  },
  {
   "cell_type": "code",
   "execution_count": 20,
   "id": "e2538dea",
   "metadata": {},
   "outputs": [
    {
     "name": "stdout",
     "output_type": "stream",
     "text": [
      "Found [224] data files.\n",
      "Train files: 179, Test files: 45\n"
     ]
    }
   ],
   "source": [
    "dataset_path = os.path.join(\"..\", \"datasets\", \"squat\", \"good\", \"keypoints\")\n",
    "\n",
    "# Get list data files\n",
    "data_files = [f for f in os.listdir(dataset_path) if f.endswith('.parquet')]\n",
    "print(f\"Found [{len(data_files)}] data files.\")\n",
    "\n",
    "# Devide data into train and test sets\n",
    "train_files, test_files = train_test_split(data_files, test_size=0.2, random_state=42)\n",
    "print(f\"Train files: {len(train_files)}, Test files: {len(test_files)}\")\n",
    "\n",
    "# Save train and test files to a DataFrame\n",
    "df = pd.DataFrame()\n",
    "for file in train_files:\n",
    "    row = pd.DataFrame({'file': [file], 'class': 'squat', 'set': ['train']})\n",
    "    df = pd.concat([df, row], ignore_index=True)\n",
    "\n",
    "for file in test_files:\n",
    "    row = pd.DataFrame({'file': [file], 'class': 'squat', 'set': ['test']})\n",
    "    df = pd.concat([df, row], ignore_index=True)\n",
    "\n",
    "# Save the DataFrame to a parquet file\n",
    "output_path = os.path.join(\"..\", \"datasets\", \"squat\", \"good\", \"dataset_devided.parquet\")\n",
    "df.to_parquet(output_path, index=False)"
   ]
  },
  {
   "cell_type": "markdown",
   "id": "7febcda5",
   "metadata": {},
   "source": [
    "Train model (ResNet50 - use Keras)"
   ]
  }
 ],
 "metadata": {
  "kernelspec": {
   "display_name": "physiotherapy_unsupervised_computer_vision_system",
   "language": "python",
   "name": "python3"
  },
  "language_info": {
   "codemirror_mode": {
    "name": "ipython",
    "version": 3
   },
   "file_extension": ".py",
   "mimetype": "text/x-python",
   "name": "python",
   "nbconvert_exporter": "python",
   "pygments_lexer": "ipython3",
   "version": "3.9.23"
  }
 },
 "nbformat": 4,
 "nbformat_minor": 5
}
